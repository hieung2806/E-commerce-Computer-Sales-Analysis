{
 "cells": [
  {
   "cell_type": "code",
   "execution_count": 46,
   "metadata": {},
   "outputs": [],
   "source": [
    "import pandas as pd\n"
   ]
  },
  {
   "cell_type": "code",
   "execution_count": 47,
   "metadata": {},
   "outputs": [],
   "source": [
    "data = pd.read_excel('CapstoneProject_Dataset_2021.xlsx', sheet_name='Sale')"
   ]
  },
  {
   "cell_type": "code",
   "execution_count": 48,
   "metadata": {},
   "outputs": [
    {
     "data": {
      "text/html": [
       "<div>\n",
       "<style scoped>\n",
       "    .dataframe tbody tr th:only-of-type {\n",
       "        vertical-align: middle;\n",
       "    }\n",
       "\n",
       "    .dataframe tbody tr th {\n",
       "        vertical-align: top;\n",
       "    }\n",
       "\n",
       "    .dataframe thead th {\n",
       "        text-align: right;\n",
       "    }\n",
       "</style>\n",
       "<table border=\"1\" class=\"dataframe\">\n",
       "  <thead>\n",
       "    <tr style=\"text-align: right;\">\n",
       "      <th></th>\n",
       "      <th>CustomerID</th>\n",
       "      <th>OrderID</th>\n",
       "      <th>Channel</th>\n",
       "      <th>PaymentType</th>\n",
       "      <th>Brand</th>\n",
       "      <th>Shop</th>\n",
       "      <th>Promotion</th>\n",
       "      <th>SalePrice</th>\n",
       "      <th>SaleDate</th>\n",
       "      <th>Reference</th>\n",
       "    </tr>\n",
       "  </thead>\n",
       "  <tbody>\n",
       "    <tr>\n",
       "      <th>1475</th>\n",
       "      <td>CTM95843</td>\n",
       "      <td>OTS9147</td>\n",
       "      <td>Offline</td>\n",
       "      <td>Thẻ</td>\n",
       "      <td>Asus</td>\n",
       "      <td>Nguyễn Kim</td>\n",
       "      <td>Không</td>\n",
       "      <td>13297000.0</td>\n",
       "      <td>2020-03-09</td>\n",
       "      <td>Nhân viên cửa hàng bán Laptop, Mạng xã hội, Ph...</td>\n",
       "    </tr>\n",
       "    <tr>\n",
       "      <th>307</th>\n",
       "      <td>CTM27799</td>\n",
       "      <td>OTS752</td>\n",
       "      <td>Offline</td>\n",
       "      <td>Tiền mặt</td>\n",
       "      <td>Dell</td>\n",
       "      <td>Điện máy xanh</td>\n",
       "      <td>Có</td>\n",
       "      <td>13720000.0</td>\n",
       "      <td>2020-05-29</td>\n",
       "      <td>Thông qua người thân, bạn bè, Nhân viên cửa hà...</td>\n",
       "    </tr>\n",
       "    <tr>\n",
       "      <th>284</th>\n",
       "      <td>CTM26103</td>\n",
       "      <td>OTS61621</td>\n",
       "      <td>Offline</td>\n",
       "      <td>Thẻ</td>\n",
       "      <td>HP</td>\n",
       "      <td>Viễn thông A</td>\n",
       "      <td>Có</td>\n",
       "      <td>12298000.0</td>\n",
       "      <td>2020-10-11</td>\n",
       "      <td>Thông qua người thân, bạn bè, Nhờ người có chu...</td>\n",
       "    </tr>\n",
       "    <tr>\n",
       "      <th>607</th>\n",
       "      <td>CTM45685</td>\n",
       "      <td>OTS1024</td>\n",
       "      <td>Offline</td>\n",
       "      <td>Thẻ</td>\n",
       "      <td>Dell</td>\n",
       "      <td>FPT Shop</td>\n",
       "      <td>Có</td>\n",
       "      <td>13250000.0</td>\n",
       "      <td>2020-08-28</td>\n",
       "      <td>Thông qua người thân, bạn bè, Nhân viên cửa hà...</td>\n",
       "    </tr>\n",
       "    <tr>\n",
       "      <th>547</th>\n",
       "      <td>CTM4175</td>\n",
       "      <td>OTS352</td>\n",
       "      <td>Online</td>\n",
       "      <td>Thẻ</td>\n",
       "      <td>Acer</td>\n",
       "      <td>Viettel Store</td>\n",
       "      <td>Có</td>\n",
       "      <td>13340000.0</td>\n",
       "      <td>2020-08-19</td>\n",
       "      <td>Thông qua người thân, bạn bè, Nhân viên cửa hà...</td>\n",
       "    </tr>\n",
       "  </tbody>\n",
       "</table>\n",
       "</div>"
      ],
      "text/plain": [
       "     CustomerID   OrderID  Channel PaymentType Brand           Shop Promotion  \\\n",
       "1475   CTM95843   OTS9147  Offline         Thẻ  Asus     Nguyễn Kim     Không   \n",
       "307    CTM27799    OTS752  Offline    Tiền mặt  Dell  Điện máy xanh        Có   \n",
       "284    CTM26103  OTS61621  Offline         Thẻ    HP   Viễn thông A        Có   \n",
       "607    CTM45685   OTS1024  Offline         Thẻ  Dell       FPT Shop        Có   \n",
       "547     CTM4175    OTS352   Online         Thẻ  Acer  Viettel Store        Có   \n",
       "\n",
       "       SalePrice   SaleDate                                          Reference  \n",
       "1475  13297000.0 2020-03-09  Nhân viên cửa hàng bán Laptop, Mạng xã hội, Ph...  \n",
       "307   13720000.0 2020-05-29  Thông qua người thân, bạn bè, Nhân viên cửa hà...  \n",
       "284   12298000.0 2020-10-11  Thông qua người thân, bạn bè, Nhờ người có chu...  \n",
       "607   13250000.0 2020-08-28  Thông qua người thân, bạn bè, Nhân viên cửa hà...  \n",
       "547   13340000.0 2020-08-19  Thông qua người thân, bạn bè, Nhân viên cửa hà...  "
      ]
     },
     "execution_count": 48,
     "metadata": {},
     "output_type": "execute_result"
    }
   ],
   "source": [
    "data.sample(5)"
   ]
  },
  {
   "cell_type": "code",
   "execution_count": 49,
   "metadata": {},
   "outputs": [
    {
     "data": {
      "text/plain": [
       "22"
      ]
     },
     "execution_count": 49,
     "metadata": {},
     "output_type": "execute_result"
    }
   ],
   "source": [
    "data.isnull().sum().sum()"
   ]
  },
  {
   "cell_type": "code",
   "execution_count": 50,
   "metadata": {},
   "outputs": [
    {
     "name": "stdout",
     "output_type": "stream",
     "text": [
      "<class 'pandas.core.frame.DataFrame'>\n",
      "RangeIndex: 1550 entries, 0 to 1549\n",
      "Data columns (total 10 columns):\n",
      " #   Column       Non-Null Count  Dtype         \n",
      "---  ------       --------------  -----         \n",
      " 0   CustomerID   1550 non-null   object        \n",
      " 1   OrderID      1550 non-null   object        \n",
      " 2   Channel      1547 non-null   object        \n",
      " 3   PaymentType  1548 non-null   object        \n",
      " 4   Brand        1548 non-null   object        \n",
      " 5   Shop         1545 non-null   object        \n",
      " 6   Promotion    1550 non-null   object        \n",
      " 7   SalePrice    1544 non-null   float64       \n",
      " 8   SaleDate     1550 non-null   datetime64[ns]\n",
      " 9   Reference    1546 non-null   object        \n",
      "dtypes: datetime64[ns](1), float64(1), object(8)\n",
      "memory usage: 121.2+ KB\n"
     ]
    }
   ],
   "source": [
    "data.info()"
   ]
  },
  {
   "cell_type": "code",
   "execution_count": 53,
   "metadata": {},
   "outputs": [
    {
     "data": {
      "text/plain": [
       "0"
      ]
     },
     "execution_count": 53,
     "metadata": {},
     "output_type": "execute_result"
    }
   ],
   "source": []
  },
  {
   "cell_type": "code",
   "execution_count": 57,
   "metadata": {},
   "outputs": [],
   "source": [
    "data['Channel'].fillna(data['Channel'].mode()[0], inplace = True)\n",
    "data['PaymentType'].fillna(data['PaymentType'].mode()[0], inplace = True)\n",
    "data['Brand'].fillna(data['Brand'].mode()[0], inplace = True)\n",
    "data['Shop'].fillna(data['Shop'].mode()[0], inplace = True)\n",
    "data['Reference'].fillna(data['Reference'].mode()[0],inplace = True)"
   ]
  },
  {
   "cell_type": "code",
   "execution_count": 58,
   "metadata": {},
   "outputs": [
    {
     "name": "stdout",
     "output_type": "stream",
     "text": [
      "<class 'pandas.core.frame.DataFrame'>\n",
      "RangeIndex: 1550 entries, 0 to 1549\n",
      "Data columns (total 10 columns):\n",
      " #   Column       Non-Null Count  Dtype         \n",
      "---  ------       --------------  -----         \n",
      " 0   CustomerID   1550 non-null   object        \n",
      " 1   OrderID      1550 non-null   object        \n",
      " 2   Channel      1550 non-null   object        \n",
      " 3   PaymentType  1550 non-null   object        \n",
      " 4   Brand        1550 non-null   object        \n",
      " 5   Shop         1550 non-null   object        \n",
      " 6   Promotion    1550 non-null   object        \n",
      " 7   SalePrice    1544 non-null   float64       \n",
      " 8   SaleDate     1550 non-null   datetime64[ns]\n",
      " 9   Reference    1550 non-null   object        \n",
      "dtypes: datetime64[ns](1), float64(1), object(8)\n",
      "memory usage: 121.2+ KB\n"
     ]
    }
   ],
   "source": [
    "data.info()"
   ]
  },
  {
   "cell_type": "code",
   "execution_count": 66,
   "metadata": {},
   "outputs": [],
   "source": [
    "data['SalePrice'] = data['SalePrice'].fillna(data.groupby('Brand')['SalePrice'].transform('mean'))"
   ]
  },
  {
   "cell_type": "code",
   "execution_count": 67,
   "metadata": {},
   "outputs": [
    {
     "name": "stdout",
     "output_type": "stream",
     "text": [
      "<class 'pandas.core.frame.DataFrame'>\n",
      "RangeIndex: 1550 entries, 0 to 1549\n",
      "Data columns (total 10 columns):\n",
      " #   Column       Non-Null Count  Dtype         \n",
      "---  ------       --------------  -----         \n",
      " 0   CustomerID   1550 non-null   object        \n",
      " 1   OrderID      1550 non-null   object        \n",
      " 2   Channel      1550 non-null   object        \n",
      " 3   PaymentType  1550 non-null   object        \n",
      " 4   Brand        1550 non-null   object        \n",
      " 5   Shop         1550 non-null   object        \n",
      " 6   Promotion    1550 non-null   object        \n",
      " 7   SalePrice    1550 non-null   float64       \n",
      " 8   SaleDate     1550 non-null   datetime64[ns]\n",
      " 9   Reference    1550 non-null   object        \n",
      "dtypes: datetime64[ns](1), float64(1), object(8)\n",
      "memory usage: 121.2+ KB\n"
     ]
    }
   ],
   "source": [
    "data.info()"
   ]
  }
 ],
 "metadata": {
  "kernelspec": {
   "display_name": "base",
   "language": "python",
   "name": "python3"
  },
  "language_info": {
   "codemirror_mode": {
    "name": "ipython",
    "version": 3
   },
   "file_extension": ".py",
   "mimetype": "text/x-python",
   "name": "python",
   "nbconvert_exporter": "python",
   "pygments_lexer": "ipython3",
   "version": "3.9.13"
  },
  "orig_nbformat": 4,
  "vscode": {
   "interpreter": {
    "hash": "ffb7f155941c6ef1b9d57338bbcf556818581d5e45fd45e4e6a640add0bb56ed"
   }
  }
 },
 "nbformat": 4,
 "nbformat_minor": 2
}
